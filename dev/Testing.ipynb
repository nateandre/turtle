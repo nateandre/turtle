{
 "cells": [
  {
   "cell_type": "markdown",
   "metadata": {},
   "source": [
    "Game mechanics along with determining the distribution of streaks"
   ]
  },
  {
   "cell_type": "code",
   "execution_count": 23,
   "metadata": {},
   "outputs": [],
   "source": [
    "import numpy as np\n",
    "import matplotlib.pyplot as plt\n",
    "import random\n",
    "from collections import Counter"
   ]
  },
  {
   "cell_type": "code",
   "execution_count": 3,
   "metadata": {},
   "outputs": [],
   "source": [
    "distance = 100\n",
    "sec_per_move = 5\n",
    "mean_1,mean_2 = 10,10\n",
    "std_1,std_2 = 1,1"
   ]
  },
  {
   "cell_type": "code",
   "execution_count": 12,
   "metadata": {},
   "outputs": [],
   "source": [
    "n_simulations = 10000000\n",
    "winner = []\n",
    "\n",
    "for _ in range(n_simulations):\n",
    "    turtle_1_distance = 0\n",
    "    turtle_2_distance = 0\n",
    "    \n",
    "    for _ in range(100):\n",
    "        turtle_1_move = np.random.normal(mean_1,std_1,size=1)[0]\n",
    "        turtle_2_move = np.random.normal(mean_2,std_2,size=1)[0]\n",
    "        turtle_1_distance += turtle_1_move\n",
    "        turtle_2_distance += turtle_2_move\n",
    "        \n",
    "        if turtle_1_distance>=distance or turtle_2_distance>=distance: # game has completed\n",
    "            if turtle_1_distance>=distance and turtle_2_distance>=distance: # need to determine who crossed first\n",
    "                \n",
    "                turtle_1_distance_left = turtle_1_distance-turtle_1_move\n",
    "                turtle_2_distance_left = turtle_2_distance-turtle_2_move\n",
    "                turtle_1_sec_to_finish = turtle_1_distance_left/(turtle_1_move/sec_per_move)\n",
    "                turtle_2_sec_to_finish = turtle_2_distance_left/(turtle_2_move/sec_per_move)\n",
    "                \n",
    "                if turtle_1_sec_to_finish==turtle_2_sec_to_finish:\n",
    "                    winner.append(random.choice([\"1\",\"2\"])) # equal probability\n",
    "                elif turtle_1_sec_to_finish<turtle_2_sec_to_finish:\n",
    "                    winner.append(\"1\")\n",
    "                else: # turtle 2 won\n",
    "                    winner.append(\"2\")\n",
    "                \n",
    "            elif turtle_1_distance>=distance: # don't need to determine who crossed first\n",
    "                winner.append(\"1\")\n",
    "            else: # turtle 2 won\n",
    "                winner.append(\"2\")\n",
    "            break"
   ]
  },
  {
   "cell_type": "code",
   "execution_count": null,
   "metadata": {},
   "outputs": [],
   "source": []
  },
  {
   "cell_type": "code",
   "execution_count": 13,
   "metadata": {},
   "outputs": [
    {
     "data": {
      "text/plain": [
       "0"
      ]
     },
     "execution_count": 13,
     "metadata": {},
     "output_type": "execute_result"
    }
   ],
   "source": [
    "np.sum(np.array(winner)=='t') # this was prior to using the random choice"
   ]
  },
  {
   "cell_type": "code",
   "execution_count": 14,
   "metadata": {},
   "outputs": [
    {
     "data": {
      "text/plain": [
       "4999104"
      ]
     },
     "execution_count": 14,
     "metadata": {},
     "output_type": "execute_result"
    }
   ],
   "source": [
    "np.sum(np.array(winner)=='1')"
   ]
  },
  {
   "cell_type": "code",
   "execution_count": 15,
   "metadata": {},
   "outputs": [
    {
     "data": {
      "text/plain": [
       "5000896"
      ]
     },
     "execution_count": 15,
     "metadata": {},
     "output_type": "execute_result"
    }
   ],
   "source": [
    "np.sum(np.array(winner)=='2')"
   ]
  },
  {
   "cell_type": "code",
   "execution_count": null,
   "metadata": {},
   "outputs": [],
   "source": []
  },
  {
   "cell_type": "code",
   "execution_count": 18,
   "metadata": {},
   "outputs": [],
   "source": [
    "turtle_streaks = {\"1\":[],\"2\":[]}\n",
    "\n",
    "current_turtle_winner = winner[0]\n",
    "turtle_win_count=1\n",
    "for turtle in winner[1:]:\n",
    "    if turtle == current_turtle_winner:\n",
    "        turtle_win_count+=1\n",
    "    else:\n",
    "        if turtle_win_count>1:\n",
    "            turtle_streaks[current_turtle_winner].append(turtle_win_count)\n",
    "        \n",
    "        current_turtle_winner = turtle\n",
    "        turtle_win_count=1"
   ]
  },
  {
   "cell_type": "code",
   "execution_count": 24,
   "metadata": {},
   "outputs": [
    {
     "data": {
      "text/plain": [
       "Counter({2: 625315,\n",
       "         3: 312659,\n",
       "         4: 156165,\n",
       "         5: 78206,\n",
       "         6: 38886,\n",
       "         7: 19673,\n",
       "         8: 9727,\n",
       "         9: 4793,\n",
       "         10: 2450,\n",
       "         11: 1195,\n",
       "         12: 599,\n",
       "         13: 317,\n",
       "         14: 146,\n",
       "         15: 77,\n",
       "         16: 24,\n",
       "         17: 21,\n",
       "         18: 10,\n",
       "         19: 4,\n",
       "         20: 1,\n",
       "         21: 1,\n",
       "         22: 1})"
      ]
     },
     "execution_count": 24,
     "metadata": {},
     "output_type": "execute_result"
    }
   ],
   "source": [
    "Counter(turtle_streaks[\"1\"])"
   ]
  },
  {
   "cell_type": "code",
   "execution_count": 25,
   "metadata": {},
   "outputs": [
    {
     "data": {
      "text/plain": [
       "Counter({2: 626437,\n",
       "         3: 311812,\n",
       "         4: 156651,\n",
       "         5: 78395,\n",
       "         6: 39107,\n",
       "         7: 19459,\n",
       "         8: 9851,\n",
       "         9: 4802,\n",
       "         10: 2432,\n",
       "         11: 1166,\n",
       "         12: 570,\n",
       "         13: 298,\n",
       "         14: 162,\n",
       "         15: 68,\n",
       "         16: 49,\n",
       "         17: 16,\n",
       "         18: 5,\n",
       "         19: 4,\n",
       "         20: 7,\n",
       "         23: 1})"
      ]
     },
     "execution_count": 25,
     "metadata": {},
     "output_type": "execute_result"
    }
   ],
   "source": [
    "Counter(turtle_streaks[\"2\"])"
   ]
  },
  {
   "cell_type": "code",
   "execution_count": null,
   "metadata": {},
   "outputs": [],
   "source": []
  },
  {
   "cell_type": "code",
   "execution_count": null,
   "metadata": {},
   "outputs": [],
   "source": []
  },
  {
   "cell_type": "code",
   "execution_count": null,
   "metadata": {},
   "outputs": [],
   "source": []
  }
 ],
 "metadata": {
  "kernelspec": {
   "display_name": "Python 3",
   "language": "python",
   "name": "python3"
  },
  "language_info": {
   "codemirror_mode": {
    "name": "ipython",
    "version": 3
   },
   "file_extension": ".py",
   "mimetype": "text/x-python",
   "name": "python",
   "nbconvert_exporter": "python",
   "pygments_lexer": "ipython3",
   "version": "3.6.5"
  }
 },
 "nbformat": 4,
 "nbformat_minor": 2
}
